{
 "cells": [
  {
   "cell_type": "markdown",
   "metadata": {},
   "source": [
    "***\n",
    "<h1 align=\"center\">Exercise 06</h1>\n",
    " \n",
    "***\n",
    "## While Loop\n",
    "## Exercise 6.1\n",
    "isilah bagian rumpang berikut. xx diganti tanggal lahir dan yy diganti menjadi bulan lahir. tandanya menyesuaikan yang lebih besar."
   ]
  },
  {
   "cell_type": "code",
   "execution_count": 2,
   "metadata": {},
   "outputs": [
    {
     "name": "stdout",
     "output_type": "stream",
     "text": [
      "Optimis, Ikhtiar, Tawakkal\n",
      "Optimis, Ikhtiar, Tawakkal\n",
      "Optimis, Ikhtiar, Tawakkal\n",
      "Optimis, Ikhtiar, Tawakkal\n",
      "Optimis, Ikhtiar, Tawakkal\n",
      "Optimis, Ikhtiar, Tawakkal\n",
      "Optimis, Ikhtiar, Tawakkal\n",
      "Optimis, Ikhtiar, Tawakkal\n",
      "Optimis, Ikhtiar, Tawakkal\n",
      "Optimis, Ikhtiar, Tawakkal\n",
      "Optimis, Ikhtiar, Tawakkal\n"
     ]
    }
   ],
   "source": [
    "#menentukan banyak pengulangan\n",
    "n = 11\n",
    "\n",
    "#melakukan pengulangan\n",
    "i = 1\n",
    "\n",
    "while i <= n :\n",
    "    print (\"Optimis, Ikhtiar, Tawakkal\")\n",
    "    #diisi motto kalian\n",
    "    i = i + 1 # sesuaikan dengan atas agar fungsi perulangan dapat berhenti\n"
   ]
  },
  {
   "cell_type": "markdown",
   "metadata": {},
   "source": [
    "## Exercise 6.2\n",
    "\n",
    "Buatlah code seperti yang dicontohkan pada modul agar user dapat menginputkan sendiri jumlah n yang diinginkan"
   ]
  },
  {
   "cell_type": "code",
   "execution_count": 8,
   "metadata": {},
   "outputs": [
    {
     "name": "stdout",
     "output_type": "stream",
     "text": [
      "Optimis, Ikhtiar, Tawakkal\n",
      "Optimis, Ikhtiar, Tawakkal\n",
      "Optimis, Ikhtiar, Tawakkal\n",
      "Optimis, Ikhtiar, Tawakkal\n",
      "Optimis, Ikhtiar, Tawakkal\n",
      "Optimis, Ikhtiar, Tawakkal\n",
      "Optimis, Ikhtiar, Tawakkal\n",
      "Optimis, Ikhtiar, Tawakkal\n",
      "Optimis, Ikhtiar, Tawakkal\n",
      "Optimis, Ikhtiar, Tawakkal\n",
      "Optimis, Ikhtiar, Tawakkal\n"
     ]
    }
   ],
   "source": [
    "#Kerjakan disini\n",
    "n = int(input(\"masukkan nilai n : \"))\n",
    "\n",
    "i = 1\n",
    "\n",
    "while i <= n :\n",
    "    print (\"Optimis, Ikhtiar, Tawakkal\")\n",
    "    i = i + 1 "
   ]
  },
  {
   "cell_type": "markdown",
   "metadata": {},
   "source": [
    "## Excercise 6.3\n",
    "\n",
    "isilah xx, yy, dan tanda rumpang seperti pada exercise 6.1\n"
   ]
  },
  {
   "cell_type": "code",
   "execution_count": 16,
   "metadata": {},
   "outputs": [
    {
     "name": "stdout",
     "output_type": "stream",
     "text": [
      "Baris ke-11 : The Box\n",
      "Baris ke-10 : The Box\n",
      "Baris ke-9 : The Box\n",
      "Baris ke-8 : The Box\n",
      "Baris ke-7 : The Box\n",
      "Baris ke-6 : The Box\n",
      "Baris ke-5 : The Box\n",
      "Baris ke-4 : The Box\n",
      "Baris ke-3 : The Box\n",
      "Baris ke-2 : The Box\n",
      "Baris ke-1 : The Box\n"
     ]
    }
   ],
   "source": [
    "#melakukan pengulangan\n",
    "i = 11\n",
    "\n",
    "while i >= 1 :\n",
    "    print (\"Baris ke-%d : The Box\"%i)\n",
    "    #isi titik-titik dengan judul film favorit kalian\n",
    "    i = i - 1 "
   ]
  },
  {
   "cell_type": "markdown",
   "metadata": {},
   "source": [
    "## FOR LOOP\n",
    "\n",
    "## Exercise 6.4\n",
    "\n",
    "munculkan 3 dari 7 elemen yang berada di dalam list1 dan list2\n"
   ]
  },
  {
   "cell_type": "code",
   "execution_count": 32,
   "metadata": {},
   "outputs": [
    {
     "name": "stdout",
     "output_type": "stream",
     "text": [
      "4 ['bakso', 'mie ayam', 'mie instan', 'geprek', 'sambal terasi', 'boran', 'mie sambel'] ['lamongan', 'surabaya', 'mojosari', 'yogyakarta', 'solo', 'malang']\n",
      "5 ['bakso', 'mie ayam', 'mie instan', 'geprek', 'sambal terasi', 'boran', 'mie sambel'] ['lamongan', 'surabaya', 'mojosari', 'yogyakarta', 'solo', 'malang']\n",
      "6 ['bakso', 'mie ayam', 'mie instan', 'geprek', 'sambal terasi', 'boran', 'mie sambel'] ['lamongan', 'surabaya', 'mojosari', 'yogyakarta', 'solo', 'malang']\n",
      "7 ['bakso', 'mie ayam', 'mie instan', 'geprek', 'sambal terasi', 'boran', 'mie sambel'] ['lamongan', 'surabaya', 'mojosari', 'yogyakarta', 'solo', 'malang']\n"
     ]
    }
   ],
   "source": [
    "list1 = [\"bakso\", \"mie ayam\", \"mie instan\", \"geprek\", \"sambal terasi\", \"boran\", \"mie sambel\"] #masukkan 7 list makanan favorit kalian\n",
    "list2 = [\"lamongan\", \"surabaya\", \"mojosari\", \"yogyakarta\", \"solo\", \"malang\"] #masukkan 7 list kota favorit kalian\n",
    "\n",
    "for i in range(3,7) :\n",
    "    print(i+1,list1, list2)"
   ]
  },
  {
   "cell_type": "markdown",
   "metadata": {},
   "source": [
    "## Perulangan Bersarang\n",
    "\n",
    "## Exercise 6.5"
   ]
  },
  {
   "cell_type": "code",
   "execution_count": 17,
   "metadata": {},
   "outputs": [
    {
     "name": "stdout",
     "output_type": "stream",
     "text": [
      "121 \n",
      "110 \n",
      "99 \n",
      "88 \n",
      "77 \n",
      "66 \n",
      "55 \n",
      "44 \n",
      "33 \n",
      "22 \n",
      "11 \n"
     ]
    }
   ],
   "source": [
    "i = 11\n",
    "while i >= 1:\n",
    "    j = 11\n",
    "    if j>=i:\n",
    "        print(\"%d \" % (i*j), end = '')\n",
    "        j = j + 1\n",
    "    print()\n",
    "    i-=1"
   ]
  },
  {
   "cell_type": "markdown",
   "metadata": {},
   "source": [
    "## Pernyataan Loncat\n",
    "\n",
    "## Exercise 6.\n",
    "\n",
    "Buatlah fungsi berikut agar muncul angka hingga berhenti sesuai dengan nilai qq\n",
    "qq = angka favorit kalian\n",
    "pp>qq"
   ]
  },
  {
   "cell_type": "code",
   "execution_count": 31,
   "metadata": {},
   "outputs": [
    {
     "name": "stdout",
     "output_type": "stream",
     "text": [
      "0123"
     ]
    }
   ],
   "source": [
    "for i in range(11):\n",
    "    print(i,end='')\n",
    "    if i == 3:\n",
    "        break"
   ]
  },
  {
   "cell_type": "markdown",
   "metadata": {},
   "source": [
    "***\n",
    "<h1 align=\"center\">WELL DONE</h1>\n",
    " \n",
    "***"
   ]
  }
 ],
 "metadata": {
  "interpreter": {
   "hash": "cd08f94adcf3cbae37fe85286256f4c2a10455ca9094fd053e9f3d3f09647223"
  },
  "kernelspec": {
   "display_name": "Python 3.9.7 64-bit",
   "language": "python",
   "name": "python3"
  },
  "language_info": {
   "codemirror_mode": {
    "name": "ipython",
    "version": 3
   },
   "file_extension": ".py",
   "mimetype": "text/x-python",
   "name": "python",
   "nbconvert_exporter": "python",
   "pygments_lexer": "ipython3",
   "version": "3.9.12"
  },
  "orig_nbformat": 4
 },
 "nbformat": 4,
 "nbformat_minor": 2
}
